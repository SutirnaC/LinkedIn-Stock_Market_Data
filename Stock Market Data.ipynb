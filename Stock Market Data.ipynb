{
 "cells": [
  {
   "cell_type": "code",
   "execution_count": 1,
   "metadata": {},
   "outputs": [
    {
     "name": "stdout",
     "output_type": "stream",
     "text": [
      "Requirement already satisfied: nselib in c:\\users\\dell\\anaconda3\\lib\\site-packages (1.0)\n",
      "Requirement already satisfied: scipy in c:\\users\\dell\\anaconda3\\lib\\site-packages (from nselib) (1.4.1)\n",
      "Requirement already satisfied: requests in c:\\users\\dell\\anaconda3\\lib\\site-packages (from nselib) (2.22.0)\n",
      "Requirement already satisfied: pandas in c:\\users\\dell\\anaconda3\\lib\\site-packages (from nselib) (1.0.1)\n",
      "Requirement already satisfied: numpy>=1.13.3 in c:\\users\\dell\\anaconda3\\lib\\site-packages (from scipy->nselib) (1.18.1)\n",
      "Requirement already satisfied: idna<2.9,>=2.5 in c:\\users\\dell\\anaconda3\\lib\\site-packages (from requests->nselib) (2.8)\n",
      "Requirement already satisfied: certifi>=2017.4.17 in c:\\users\\dell\\anaconda3\\lib\\site-packages (from requests->nselib) (2019.11.28)\n",
      "Requirement already satisfied: chardet<3.1.0,>=3.0.2 in c:\\users\\dell\\anaconda3\\lib\\site-packages (from requests->nselib) (3.0.4)\n",
      "Requirement already satisfied: urllib3!=1.25.0,!=1.25.1,<1.26,>=1.21.1 in c:\\users\\dell\\anaconda3\\lib\\site-packages (from requests->nselib) (1.25.8)\n",
      "Requirement already satisfied: python-dateutil>=2.6.1 in c:\\users\\dell\\anaconda3\\lib\\site-packages (from pandas->nselib) (2.8.1)\n",
      "Requirement already satisfied: pytz>=2017.2 in c:\\users\\dell\\anaconda3\\lib\\site-packages (from pandas->nselib) (2019.3)\n",
      "Requirement already satisfied: six>=1.5 in c:\\users\\dell\\anaconda3\\lib\\site-packages (from python-dateutil>=2.6.1->pandas->nselib) (1.14.0)\n",
      "Note: you may need to restart the kernel to use updated packages.\n"
     ]
    }
   ],
   "source": [
    "pip install nselib"
   ]
  },
  {
   "cell_type": "code",
   "execution_count": 13,
   "metadata": {},
   "outputs": [
    {
     "name": "stdout",
     "output_type": "stream",
     "text": [
      "Collecting timedelta\n",
      "  Downloading timedelta-2020.12.3.tar.gz (1.6 kB)\n",
      "Building wheels for collected packages: timedelta\n",
      "  Building wheel for timedelta (setup.py): started\n",
      "  Building wheel for timedelta (setup.py): finished with status 'done'\n",
      "  Created wheel for timedelta: filename=timedelta-2020.12.3-py3-none-any.whl size=1624 sha256=9b50a36aabd7e46c56a1e092f79a8356e02e726a544d8ae29d2d652a48830c6d\n",
      "  Stored in directory: c:\\users\\dell\\appdata\\local\\pip\\cache\\wheels\\4e\\b6\\37\\4e3dcf4958e062171a2ce6bbe5a5c1a9186913c69e63a7cec9\n",
      "Successfully built timedelta\n",
      "Installing collected packages: timedelta\n",
      "Successfully installed timedelta-2020.12.3\n",
      "Note: you may need to restart the kernel to use updated packages.\n"
     ]
    }
   ],
   "source": [
    "pip install timedelta"
   ]
  },
  {
   "cell_type": "code",
   "execution_count": 1,
   "metadata": {},
   "outputs": [],
   "source": [
    "import nselib as nse"
   ]
  },
  {
   "cell_type": "code",
   "execution_count": 2,
   "metadata": {},
   "outputs": [],
   "source": [
    "import requests\n",
    "import numpy as np\n",
    "import pandas as pd\n",
    "from bs4 import BeautifulSoup \n",
    "import bs4\n",
    "import csv\n",
    "import datetime, timedelta\n",
    "import time\n",
    "import os"
   ]
  },
  {
   "cell_type": "code",
   "execution_count": 3,
   "metadata": {},
   "outputs": [],
   "source": [
    "from nselib import capital_market"
   ]
  },
  {
   "cell_type": "code",
   "execution_count": 6,
   "metadata": {},
   "outputs": [],
   "source": [
    "data = capital_market.price_volume_and_deliverable_position_data(symbol='SBIN', from_date='01-06-2023', to_date='01-06-2024')"
   ]
  },
  {
   "cell_type": "code",
   "execution_count": 7,
   "metadata": {},
   "outputs": [
    {
     "name": "stdout",
     "output_type": "stream",
     "text": [
      "    Symbol Series         Date  PrevClose  OpenPrice  HighPrice  LowPrice  \\\n",
      "0     SBIN     EQ  01-Jun-2023     579.85      581.8      586.4     581.0   \n",
      "1     SBIN     EQ  02-Jun-2023     582.75      584.7      588.9     583.0   \n",
      "2     SBIN     EQ  05-Jun-2023     587.20      588.5      589.8     586.0   \n",
      "3     SBIN     EQ  06-Jun-2023     587.20      588.0      588.9     583.0   \n",
      "4     SBIN     EQ  07-Jun-2023     585.35      588.0      590.6     586.0   \n",
      "..     ...    ...          ...        ...        ...        ...       ...   \n",
      "257    NaN    NaN          NaN        NaN        NaN        NaN       NaN   \n",
      "258    NaN    NaN          NaN        NaN        NaN        NaN       NaN   \n",
      "259    NaN    NaN          NaN        NaN        NaN        NaN       NaN   \n",
      "260    NaN    NaN          NaN        NaN        NaN        NaN       NaN   \n",
      "261    NaN    NaN          NaN        NaN        NaN        NaN       NaN   \n",
      "\n",
      "     LastPrice  ClosePrice  AveragePrice TotalTradedQuantity  \\\n",
      "0       583.05      582.75        584.03         1,78,20,226   \n",
      "1       586.60      587.20        586.45         1,13,23,908   \n",
      "2       587.00      587.20        587.86         1,29,20,507   \n",
      "3       586.00      585.35        585.23         1,11,99,940   \n",
      "4       588.80      589.20        588.49         1,11,13,781   \n",
      "..         ...         ...           ...                 ...   \n",
      "257        NaN         NaN           NaN                 NaN   \n",
      "258        NaN         NaN           NaN                 NaN   \n",
      "259        NaN         NaN           NaN                 NaN   \n",
      "260        NaN         NaN           NaN                 NaN   \n",
      "261        NaN         NaN           NaN                 NaN   \n",
      "\n",
      "           TurnoverInRs No.ofTrades DeliverableQty  %DlyQttoTradedQty  \\\n",
      "0    10,40,75,10,474.15    1,70,662      64,47,653              36.18   \n",
      "1     6,64,09,01,519.45    1,57,397      40,19,066              35.49   \n",
      "2     7,59,54,73,740.25    1,43,514      69,13,408              53.51   \n",
      "3     6,55,45,43,425.95    1,40,444      44,30,081              39.55   \n",
      "4     6,54,03,71,617.50    1,70,307      43,72,718              39.35   \n",
      "..                  ...         ...            ...                ...   \n",
      "257                 NaN         NaN            NaN                NaN   \n",
      "258                 NaN         NaN            NaN                NaN   \n",
      "259                 NaN         NaN            NaN                NaN   \n",
      "260                 NaN         NaN            NaN                NaN   \n",
      "261                 NaN         NaN            NaN                NaN   \n",
      "\n",
      "         <!DOCTYPEHTMLPUBLIC\"-//IETF//DTDHTML2.0//EN\">  \n",
      "0                                                  NaN  \n",
      "1                                                  NaN  \n",
      "2                                                  NaN  \n",
      "3                                                  NaN  \n",
      "4                                                  NaN  \n",
      "..                                                 ...  \n",
      "257                               <h1>Proxy Error</h1>  \n",
      "258            <p>The proxy server received an invalid  \n",
      "259            response from an upstream server.<br />  \n",
      "260  The proxy server could not handle the request<...  \n",
      "261                                     </body></html>  \n",
      "\n",
      "[262 rows x 16 columns]\n"
     ]
    }
   ],
   "source": [
    "print(data)"
   ]
  },
  {
   "cell_type": "code",
   "execution_count": 8,
   "metadata": {},
   "outputs": [],
   "source": [
    "data.to_csv('SBI Stock Data.csv', index=False)"
   ]
  },
  {
   "cell_type": "code",
   "execution_count": null,
   "metadata": {},
   "outputs": [],
   "source": []
  }
 ],
 "metadata": {
  "kernelspec": {
   "display_name": "Python 3",
   "language": "python",
   "name": "python3"
  },
  "language_info": {
   "codemirror_mode": {
    "name": "ipython",
    "version": 3
   },
   "file_extension": ".py",
   "mimetype": "text/x-python",
   "name": "python",
   "nbconvert_exporter": "python",
   "pygments_lexer": "ipython3",
   "version": "3.7.6"
  }
 },
 "nbformat": 4,
 "nbformat_minor": 4
}
